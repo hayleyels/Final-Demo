{
 "cells": [
  {
   "cell_type": "code",
   "execution_count": 1,
   "id": "9db55b48-c64e-4eba-a744-a6a82685bec5",
   "metadata": {},
   "outputs": [],
   "source": [
    "%matplotlib inline\n",
    "from pylab import *"
   ]
  },
  {
   "cell_type": "code",
   "execution_count": 3,
   "id": "a030b675-2808-42b1-9f34-2221ae5cef65",
   "metadata": {},
   "outputs": [
    {
     "name": "stdout",
     "output_type": "stream",
     "text": [
      "Version  1.0.7\n",
      "Version:  0.0.49\n"
     ]
    }
   ],
   "source": [
    "from classy import *"
   ]
  },
  {
   "cell_type": "code",
   "execution_count": 5,
   "id": "70db32fe-06ee-4492-937f-3d7ec884f04c",
   "metadata": {},
   "outputs": [],
   "source": [
    "board_picture_folder=\"Images/2024-12-5 - training board images\"\n",
    "square_images_folder=\"Images/2024-12-5 - training squares\"\n",
    "image_to_use_for_corners=\"Images/2024-12-5 - training board images/demopic2.jpg\"\n",
    "\n",
    "corners= array([[89., 39.], \n",
    "                 [1105., 23.], \n",
    "                 [1198., 590.], \n",
    "                 [6., 593.]], dtype=float32) "
   ]
  },
  {
   "cell_type": "code",
   "execution_count": 7,
   "id": "1320f795-76bd-453f-b1c0-bd718ef7e746",
   "metadata": {},
   "outputs": [
    {
     "name": "stdout",
     "output_type": "stream",
     "text": [
      "[piece_0]: 40 files found\n",
      "[piece_1]: 60 files found\n",
      "[piece_2]: 60 files found\n",
      "Images\n",
      "160 images of shape (20, 20, 3)\n",
      "Target values given.\n",
      "Target names: 'piece_0', 'piece_1', 'piece_2'\n",
      "[piece_0]: 40 files\n",
      "[piece_1]: 60 files\n",
      "[piece_2]: 60 files\n"
     ]
    }
   ],
   "source": [
    "images=image.load_images(square_images_folder)\n",
    "\n",
    "# this line makes sure the target values = 0,1,2 in the right order\n",
    "# although not strictly necessary, it makes read_state a lot easier\n",
    "images=remap_targets(images,new_target_names=['piece_0','piece_1','piece_2'])\n",
    "summary(images)"
   ]
  },
  {
   "cell_type": "code",
   "execution_count": 9,
   "id": "162630ee-b5c2-428b-9575-da77aae5f1b4",
   "metadata": {},
   "outputs": [
    {
     "name": "stdout",
     "output_type": "stream",
     "text": [
      "160 vectors of length 1200\n",
      "Feature names: 'p0', 'p1', 'p2', 'p3', 'p4'  , ... ,  'p1195', 'p1196', 'p1197', 'p1198', 'p1199'  (1200 features)\n",
      "Target values given.\n",
      "Target names: 'piece_0', 'piece_1', 'piece_2'\n",
      "Mean:  [228.65625 232.      216.15    ... 228.4625  231.3125  197.1625 ]\n",
      "Median:  [248.  254.  242.5 ... 250.  254.5 179.5]\n",
      "Stddev:  [37.61051164 38.31253059 42.43659977 ... 36.97142266 36.37722287\n",
      " 41.99001183]\n"
     ]
    }
   ],
   "source": [
    "data=image.images_to_vectors(images)"
   ]
  },
  {
   "cell_type": "code",
   "execution_count": 13,
   "id": "69e91239-e114-45a5-ba0f-e4e94c1e6b05",
   "metadata": {},
   "outputs": [],
   "source": [
    "data_train=data  # training on all data"
   ]
  },
  {
   "cell_type": "code",
   "execution_count": 15,
   "id": "8b123762-b533-4134-b53b-01c37ae86dcc",
   "metadata": {},
   "outputs": [
    {
     "name": "stdout",
     "output_type": "stream",
     "text": [
      "On Training Set: 100.0\n"
     ]
    }
   ],
   "source": [
    "C=CSC()\n",
    "C.fit(data_train.vectors,data_train.targets)\n",
    "print(\"On Training Set:\",C.percent_correct(data_train.vectors,data_train.targets))"
   ]
  },
  {
   "cell_type": "code",
   "execution_count": 17,
   "id": "2c57d763-b997-4f33-9789-8a685ef2611e",
   "metadata": {},
   "outputs": [],
   "source": [
    "C.save(\"CSC_trained_demo4.json\")"
   ]
  },
  {
   "cell_type": "code",
   "execution_count": null,
   "id": "1c3f3fce-adad-4570-8e0a-2ee980a9c402",
   "metadata": {},
   "outputs": [],
   "source": []
  }
 ],
 "metadata": {
  "kernelspec": {
   "display_name": "Python 3 (ipykernel)",
   "language": "python",
   "name": "python3"
  },
  "language_info": {
   "codemirror_mode": {
    "name": "ipython",
    "version": 3
   },
   "file_extension": ".py",
   "mimetype": "text/x-python",
   "name": "python",
   "nbconvert_exporter": "python",
   "pygments_lexer": "ipython3",
   "version": "3.12.4"
  }
 },
 "nbformat": 4,
 "nbformat_minor": 5
}
