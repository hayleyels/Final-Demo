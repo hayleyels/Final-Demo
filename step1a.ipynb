{
 "cells": [
  {
   "cell_type": "markdown",
   "id": "ad68dcbd-3742-4f34-9242-aba2a4ab1397",
   "metadata": {},
   "source": [
    "* make a folder for just board pictures -- you only need a handful usually\n",
    "* pull out two for testing the read_state\n",
    "* make a different folder for having the square images for classification\n",
    "* select one image for getting the corners\n",
    "* make sure to truncate the image (if needed) and copy this truncation into any other notebooks\n",
    "* for some reason the \"Run All Cells\" doesn't print out the corners, but executing the cells one-by-one does. weird.\n",
    "* copy the displayed \"corners=...\" at the end"
   ]
  },
  {
   "cell_type": "code",
   "execution_count": 39,
   "id": "7a648c06-fe74-491f-8cc5-039d8c2d9d28",
   "metadata": {},
   "outputs": [],
   "source": [
    "board_picture_folder=\"Images/2024-12-5 - training board images\"\n",
    "square_images_folder=\"Images/2024-12-5 - training squares\"\n",
    "image_to_use_for_corners=\"Images/2024-12-5 - training board images/demopic2.jpg\""
   ]
  },
  {
   "cell_type": "code",
   "execution_count": 41,
   "id": "8f8b71da-2a73-4101-8162-8b41111443b5",
   "metadata": {},
   "outputs": [],
   "source": [
    "%matplotlib qt5\n",
    "from IPython.display import display"
   ]
  },
  {
   "cell_type": "code",
   "execution_count": 43,
   "id": "a2cb588c-c2bf-4bb5-b0c5-267af81f5e10",
   "metadata": {},
   "outputs": [
    {
     "name": "stdout",
     "output_type": "stream",
     "text": [
      "Requirement already satisfied: pyqt5 in c:\\users\\student\\anaconda3\\lib\\site-packages (5.15.10)\n",
      "Requirement already satisfied: PyQt5-sip<13,>=12.13 in c:\\users\\student\\anaconda3\\lib\\site-packages (from pyqt5) (12.13.0)\n",
      "Note: you may need to restart the kernel to use updated packages.\n"
     ]
    }
   ],
   "source": [
    "pip install pyqt5"
   ]
  },
  {
   "cell_type": "code",
   "execution_count": 44,
   "id": "6067e530-aa21-4c73-b7aa-f415ae5bd3af",
   "metadata": {},
   "outputs": [],
   "source": [
    "from pylab import *"
   ]
  },
  {
   "cell_type": "code",
   "execution_count": 45,
   "id": "f1d8962e-1b73-419f-a0d8-acbbcf609415",
   "metadata": {},
   "outputs": [],
   "source": [
    "def on_click(event):\n",
    "    from pylab import plot,show,close\n",
    "    global ix, iy\n",
    "    global corners,fig,ax\n",
    "    \n",
    "    \n",
    "    ix, iy = event.xdata, event.ydata\n",
    "    global coords\n",
    "    coords = [int(ix), int(iy)]\n",
    "    \n",
    "    corners.append([coords[0],coords[1]])  # x, y not row/col\n",
    "    \n",
    "    ax.plot(ix,iy,'go')\n",
    "    fig.canvas.draw()\n",
    "    show()\n",
    "\n",
    "    if len(corners)==4:\n",
    "        corners=array(sort_corners(corners)).astype(float32)\n",
    "        print(\"\\n\",\"corners=\",corners.__repr__(),\"\\n\",)\n",
    "        close(fig)\n",
    "        corners=[]\n",
    "        \n",
    "    \n",
    "    return coords"
   ]
  },
  {
   "cell_type": "code",
   "execution_count": 46,
   "id": "b5a71f2d-c781-4f92-b3d1-6f1972de844b",
   "metadata": {},
   "outputs": [],
   "source": [
    "def sort_corners(corners):\n",
    "    import numpy as np\n",
    "    new_corners=[]\n",
    "    mx,my=np.mean(corners,axis=0)\n",
    "    \n",
    "    for i in range(4):\n",
    "            \n",
    "        for x,y in corners:\n",
    "            # top left\n",
    "            if x<mx and y<my and i==0:\n",
    "                new_corners.append([x,y])\n",
    "        \n",
    "            # top right\n",
    "            if x>mx and y<my and i==1:\n",
    "                new_corners.append([x,y])\n",
    "        \n",
    "            # bottom right\n",
    "            if x>mx and y>my and i==2:\n",
    "                new_corners.append([x,y])\n",
    "        \n",
    "            # bottom left\n",
    "            if x<mx and y>my and i==3:\n",
    "                new_corners.append([x,y])\n",
    "\n",
    "    return new_corners"
   ]
  },
  {
   "cell_type": "code",
   "execution_count": 47,
   "id": "1b856e02-6928-4bb6-a679-fd26476381ea",
   "metadata": {},
   "outputs": [],
   "source": [
    "corners=[]\n",
    "filename=image_to_use_for_corners\n",
    "\n",
    "\n",
    "fig=figure()\n",
    "ax=subplot(1,1,1)\n",
    "image=imread(filename)\n",
    "\n",
    "image=image[300:900,:1200]  # truncate if you need to\n",
    "imshow(image)\n",
    "\n",
    "cid = fig.canvas.mpl_connect('button_press_event', on_click)\n",
    "corners.append(cid)"
   ]
  },
  {
   "cell_type": "code",
   "execution_count": 53,
   "id": "d8d9674a-ee33-4c89-a958-07b7f855b7ee",
   "metadata": {},
   "outputs": [
    {
     "data": {
      "text/plain": [
       "[[89, 39], [1105, 23], [1198, 590], [6, 593]]"
      ]
     },
     "execution_count": 53,
     "metadata": {},
     "output_type": "execute_result"
    }
   ],
   "source": [
    "corners = corners[1:]\n",
    "corners"
   ]
  },
  {
   "cell_type": "code",
   "execution_count": 57,
   "id": "ef50ab3a-fb7a-4f11-8c66-b466e471ee43",
   "metadata": {},
   "outputs": [],
   "source": [
    "corners= array([[89., 39.], \n",
    "                 [1105., 23.], \n",
    "                 [1198., 590.], \n",
    "                 [6., 593.]], dtype=float32) "
   ]
  },
  {
   "cell_type": "code",
   "execution_count": null,
   "id": "791120c5-04fa-4bd1-af46-4a19aed2221e",
   "metadata": {},
   "outputs": [],
   "source": []
  }
 ],
 "metadata": {
  "kernelspec": {
   "display_name": "Python 3 (ipykernel)",
   "language": "python",
   "name": "python3"
  },
  "language_info": {
   "codemirror_mode": {
    "name": "ipython",
    "version": 3
   },
   "file_extension": ".py",
   "mimetype": "text/x-python",
   "name": "python",
   "nbconvert_exporter": "python",
   "pygments_lexer": "ipython3",
   "version": "3.12.4"
  }
 },
 "nbformat": 4,
 "nbformat_minor": 5
}
